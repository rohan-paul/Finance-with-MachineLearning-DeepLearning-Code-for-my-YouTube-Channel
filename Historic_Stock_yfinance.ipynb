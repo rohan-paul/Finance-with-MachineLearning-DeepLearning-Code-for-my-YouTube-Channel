{
  "cells": [
    {
      "cell_type": "code",
      "execution_count": null,
      "metadata": {
        "colab": {
          "base_uri": "https://localhost:8080/"
        },
        "id": "cyQg-iDS3T64",
        "outputId": "6a1c6400-70b9-4736-bf8a-e0629e86cfc7"
      },
      "outputs": [],
      "source": [
        "# !pip install yfinance\n",
        "# !pip install yfinance --upgrade --no-cache-dir"
      ]
    },
    {
      "cell_type": "code",
      "execution_count": 1,
      "metadata": {
        "colab": {
          "base_uri": "https://localhost:8080/"
        },
        "id": "1xgGPWAT3XD1",
        "outputId": "93a4a5a6-37ad-4404-c190-a72f602de6d8"
      },
      "outputs": [
        {
          "name": "stdout",
          "output_type": "stream",
          "text": [
            "Mounted at /content/drive\n"
          ]
        }
      ],
      "source": [
        "from google.colab import drive\n",
        "drive.mount('/content/drive')"
      ]
    },
    {
      "cell_type": "code",
      "execution_count": 7,
      "metadata": {
        "id": "aIXDblya3T68"
      },
      "outputs": [],
      "source": [
        "import warnings\n",
        "warnings.filterwarnings(\"ignore\")\n",
        "\n",
        "import yfinance as yf"
      ]
    },
    {
      "cell_type": "markdown",
      "metadata": {
        "id": "kqXP67Tp3T69"
      },
      "source": [
        "### It takes the following parameters as input:\n",
        "\n",
        "* **period**: data period to download (either use period parameter or use start and end) Valid periods are:\n",
        "\n",
        "* “1d”, “5d”, “1mo”, “3mo”, “6mo”, “1y”, “2y”, “5y”, “10y”, “ytd”, “max”\n",
        "\n",
        "* **interval**: data interval (1m data is only for available for last 7 days, and data interval <1d for the last 60 days) Valid intervals are:\n",
        "\n",
        "* “1m”, “2m”, “5m”, “15m”, “30m”, “60m”, “90m”, “1h”, “1d”, “5d”, “1wk”, “1mo”, “3mo”\n",
        "\n",
        "* **start**: If not using period – in the format (yyyy-mm-dd) or datetime.\n",
        "\n",
        "* **end**: If not using period – in the format (yyyy-mm-dd) or datetime.\n",
        "\n",
        "* **prepost**: Include Pre and Post regular market data in results? (Default is False)- no need usually to change this from False\n",
        "\n",
        "* auto_**adjust**: Adjust all OHLC (Open/High/Low/Close prices) automatically? (Default is True)- just leave this always as true and don’t worry about it\n",
        "\n",
        "* **actions**: Download stock dividends and stock splits events? (Default is True)\n",
        "\n",
        "\n",
        "### But saw that yfinance allows 1m data only for last 7 days and 60minutes data only for last 730 days."
      ]
    },
    {
      "cell_type": "markdown",
      "metadata": {
        "id": "QnVdLz663T6-"
      },
      "source": [
        "## Code to fetch Bitcoin Historic Prices from Oct-2015 to Oct-2021 using [Historic Crypto](https://pypi.org/project/Historic-Crypto/) package\n"
      ]
    },
    {
      "cell_type": "code",
      "execution_count": 12,
      "metadata": {
        "id": "LeLMi7mq3T6_"
      },
      "outputs": [],
      "source": [
        "# Setting Granularity at 86400 (which is the number of seconds in a day) for Daily price \n",
        "# stock_historicals = HistoricalData('TSLA',86400,'2021-11-10-00-00', '2021-11-14-00-00').retrieve_data()\n",
        "\n",
        "tsla= yf.Ticker(\"TSLA\")\n",
        "\n",
        "stock_historicals = tsla.history(start=\"2020-06-02\", end=\"2020-06-07\", interval=\"1d\")"
      ]
    },
    {
      "cell_type": "code",
      "execution_count": 13,
      "metadata": {
        "colab": {
          "base_uri": "https://localhost:8080/",
          "height": 202
        },
        "id": "NSGh1HRE3T7A",
        "outputId": "9879fc7b-912d-4fe7-bf89-b168950c0665"
      },
      "outputs": [
        {
          "data": {
            "text/html": [
              "<div>\n",
              "<style scoped>\n",
              "    .dataframe tbody tr th:only-of-type {\n",
              "        vertical-align: middle;\n",
              "    }\n",
              "\n",
              "    .dataframe tbody tr th {\n",
              "        vertical-align: top;\n",
              "    }\n",
              "\n",
              "    .dataframe thead th {\n",
              "        text-align: right;\n",
              "    }\n",
              "</style>\n",
              "<table border=\"1\" class=\"dataframe\">\n",
              "  <thead>\n",
              "    <tr style=\"text-align: right;\">\n",
              "      <th></th>\n",
              "      <th>Open</th>\n",
              "      <th>High</th>\n",
              "      <th>Low</th>\n",
              "      <th>Close</th>\n",
              "      <th>Volume</th>\n",
              "      <th>Dividends</th>\n",
              "      <th>Stock Splits</th>\n",
              "    </tr>\n",
              "    <tr>\n",
              "      <th>Date</th>\n",
              "      <th></th>\n",
              "      <th></th>\n",
              "      <th></th>\n",
              "      <th></th>\n",
              "      <th></th>\n",
              "      <th></th>\n",
              "      <th></th>\n",
              "    </tr>\n",
              "  </thead>\n",
              "  <tbody>\n",
              "    <tr>\n",
              "      <th>2020-06-02</th>\n",
              "      <td>178.940002</td>\n",
              "      <td>181.731995</td>\n",
              "      <td>174.199997</td>\n",
              "      <td>176.311996</td>\n",
              "      <td>67828000</td>\n",
              "      <td>0</td>\n",
              "      <td>0</td>\n",
              "    </tr>\n",
              "    <tr>\n",
              "      <th>2020-06-03</th>\n",
              "      <td>177.623993</td>\n",
              "      <td>179.587997</td>\n",
              "      <td>176.020004</td>\n",
              "      <td>176.591995</td>\n",
              "      <td>39747500</td>\n",
              "      <td>0</td>\n",
              "      <td>0</td>\n",
              "    </tr>\n",
              "    <tr>\n",
              "      <th>2020-06-04</th>\n",
              "      <td>177.975998</td>\n",
              "      <td>179.149994</td>\n",
              "      <td>171.688004</td>\n",
              "      <td>172.876007</td>\n",
              "      <td>44438500</td>\n",
              "      <td>0</td>\n",
              "      <td>0</td>\n",
              "    </tr>\n",
              "    <tr>\n",
              "      <th>2020-06-05</th>\n",
              "      <td>175.567993</td>\n",
              "      <td>177.304001</td>\n",
              "      <td>173.240005</td>\n",
              "      <td>177.132004</td>\n",
              "      <td>39059500</td>\n",
              "      <td>0</td>\n",
              "      <td>0</td>\n",
              "    </tr>\n",
              "  </tbody>\n",
              "</table>\n",
              "</div>"
            ],
            "text/plain": [
              "                  Open        High  ...  Dividends  Stock Splits\n",
              "Date                                ...                         \n",
              "2020-06-02  178.940002  181.731995  ...          0             0\n",
              "2020-06-03  177.623993  179.587997  ...          0             0\n",
              "2020-06-04  177.975998  179.149994  ...          0             0\n",
              "2020-06-05  175.567993  177.304001  ...          0             0\n",
              "\n",
              "[4 rows x 7 columns]"
            ]
          },
          "execution_count": 13,
          "metadata": {},
          "output_type": "execute_result"
        }
      ],
      "source": [
        "stock_historicals.head()"
      ]
    },
    {
      "cell_type": "code",
      "execution_count": 15,
      "metadata": {
        "colab": {
          "base_uri": "https://localhost:8080/",
          "height": 202
        },
        "id": "5SFVp2Be3T7A",
        "outputId": "f99d8e24-1aca-4b34-b3c8-4f4368150c7a"
      },
      "outputs": [
        {
          "data": {
            "text/html": [
              "<div>\n",
              "<style scoped>\n",
              "    .dataframe tbody tr th:only-of-type {\n",
              "        vertical-align: middle;\n",
              "    }\n",
              "\n",
              "    .dataframe tbody tr th {\n",
              "        vertical-align: top;\n",
              "    }\n",
              "\n",
              "    .dataframe thead th {\n",
              "        text-align: right;\n",
              "    }\n",
              "</style>\n",
              "<table border=\"1\" class=\"dataframe\">\n",
              "  <thead>\n",
              "    <tr style=\"text-align: right;\">\n",
              "      <th></th>\n",
              "      <th>Open</th>\n",
              "      <th>High</th>\n",
              "      <th>Low</th>\n",
              "      <th>Close</th>\n",
              "      <th>Volume</th>\n",
              "      <th>Dividends</th>\n",
              "      <th>Stock Splits</th>\n",
              "    </tr>\n",
              "    <tr>\n",
              "      <th>Date</th>\n",
              "      <th></th>\n",
              "      <th></th>\n",
              "      <th></th>\n",
              "      <th></th>\n",
              "      <th></th>\n",
              "      <th></th>\n",
              "      <th></th>\n",
              "    </tr>\n",
              "  </thead>\n",
              "  <tbody>\n",
              "    <tr>\n",
              "      <th>2020-06-02</th>\n",
              "      <td>178.940002</td>\n",
              "      <td>181.731995</td>\n",
              "      <td>174.199997</td>\n",
              "      <td>176.311996</td>\n",
              "      <td>67828000</td>\n",
              "      <td>0</td>\n",
              "      <td>0</td>\n",
              "    </tr>\n",
              "    <tr>\n",
              "      <th>2020-06-03</th>\n",
              "      <td>177.623993</td>\n",
              "      <td>179.587997</td>\n",
              "      <td>176.020004</td>\n",
              "      <td>176.591995</td>\n",
              "      <td>39747500</td>\n",
              "      <td>0</td>\n",
              "      <td>0</td>\n",
              "    </tr>\n",
              "    <tr>\n",
              "      <th>2020-06-04</th>\n",
              "      <td>177.975998</td>\n",
              "      <td>179.149994</td>\n",
              "      <td>171.688004</td>\n",
              "      <td>172.876007</td>\n",
              "      <td>44438500</td>\n",
              "      <td>0</td>\n",
              "      <td>0</td>\n",
              "    </tr>\n",
              "    <tr>\n",
              "      <th>2020-06-05</th>\n",
              "      <td>175.567993</td>\n",
              "      <td>177.304001</td>\n",
              "      <td>173.240005</td>\n",
              "      <td>177.132004</td>\n",
              "      <td>39059500</td>\n",
              "      <td>0</td>\n",
              "      <td>0</td>\n",
              "    </tr>\n",
              "  </tbody>\n",
              "</table>\n",
              "</div>"
            ],
            "text/plain": [
              "                  Open        High  ...  Dividends  Stock Splits\n",
              "Date                                ...                         \n",
              "2020-06-02  178.940002  181.731995  ...          0             0\n",
              "2020-06-03  177.623993  179.587997  ...          0             0\n",
              "2020-06-04  177.975998  179.149994  ...          0             0\n",
              "2020-06-05  175.567993  177.304001  ...          0             0\n",
              "\n",
              "[4 rows x 7 columns]"
            ]
          },
          "execution_count": 15,
          "metadata": {},
          "output_type": "execute_result"
        }
      ],
      "source": [
        "stock_historicals.tail()"
      ]
    },
    {
      "cell_type": "code",
      "execution_count": 16,
      "metadata": {
        "colab": {
          "base_uri": "https://localhost:8080/"
        },
        "id": "RAplnVYM3T7B",
        "outputId": "a5c8725c-0fe2-4a21-e11f-1dbd5bf153fc"
      },
      "outputs": [
        {
          "data": {
            "text/plain": [
              "(4, 7)"
            ]
          },
          "execution_count": 16,
          "metadata": {},
          "output_type": "execute_result"
        }
      ],
      "source": [
        "stock_historicals.shape"
      ]
    },
    {
      "cell_type": "code",
      "execution_count": 17,
      "metadata": {
        "id": "DvFzqwnB4RCu"
      },
      "outputs": [],
      "source": [
        "stock_historicals.to_csv('/content/drive/MyDrive/Datasets_For_Working/TSLA_Historic_Daily_OHLC_Prices/TSLA_Downloaded_15_Nov_2021.csv')"
      ]
    }
  ],
  "metadata": {
    "colab": {
      "collapsed_sections": [],
      "name": "Historic_Stock.ipynb",
      "provenance": []
    },
    "interpreter": {
      "hash": "f9f85f796d01129d0dd105a088854619f454435301f6ffec2fea96ecbd9be4ac"
    },
    "kernelspec": {
      "display_name": "Python 3.9.7 64-bit",
      "name": "python3"
    },
    "language_info": {
      "codemirror_mode": {
        "name": "ipython",
        "version": 3
      },
      "file_extension": ".py",
      "mimetype": "text/x-python",
      "name": "python",
      "nbconvert_exporter": "python",
      "pygments_lexer": "ipython3",
      "version": "3.9.7"
    }
  },
  "nbformat": 4,
  "nbformat_minor": 0
}
